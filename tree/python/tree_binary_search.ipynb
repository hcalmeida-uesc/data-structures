{
 "cells": [
  {
   "cell_type": "code",
   "execution_count": 7,
   "metadata": {},
   "outputs": [],
   "source": [
    "class Pessoa:\n",
    "    def __init__(self, strName, intAge):\n",
    "        self.name = strName\n",
    "        self.age = intAge\n",
    "\n",
    "    def __str__(self):\n",
    "        return \"Nome: \"+self.name+\" Idade: \"+str(self.age)\n",
    "    \n",
    "    def smaller(self, value):\n",
    "        return (self.age < value.age)"
   ]
  },
  {
   "cell_type": "code",
   "execution_count": 18,
   "metadata": {},
   "outputs": [],
   "source": [
    "class TreeBinarySearch:\n",
    "    def __init__(self, value):\n",
    "        self.__info = value\n",
    "        self.__left = None\n",
    "        self.__right = None\n",
    "        self.__father = None\n",
    "    \n",
    "    @property\n",
    "    def info(self):\n",
    "        return self.__info\n",
    "\n",
    "    @info.setter\n",
    "    def info(self,value):\n",
    "        self.__info = value\n",
    "\n",
    "    @property\n",
    "    def right(self):\n",
    "        return self.__right\n",
    "    \n",
    "    @right.setter\n",
    "    def right(self,value):\n",
    "        self.__right = value\n",
    "\n",
    "    @property\n",
    "    def left(self):\n",
    "        return self.__left\n",
    "    \n",
    "    @left.setter\n",
    "    def left(self,value):\n",
    "        self.__left = value\n",
    "    \n",
    "    @property\n",
    "    def father(self):\n",
    "        return self.__father\n",
    "    \n",
    "    @father.setter\n",
    "    def father(self,value):\n",
    "        self.__father = value\n",
    "\n",
    "    def makeTree(self,value):\n",
    "        self.__init__(value)\n",
    "\n",
    "    def __insertNode(self, value):\n",
    "        treeTemp = TreeBinarySearch(value)\n",
    "        treeTemp.father = self\n",
    "        return treeTemp\n",
    "    \n",
    "    def setRight(self, value):\n",
    "        self.right = self.__insertNode(value)\n",
    "\n",
    "    def setLeft(self, value):\n",
    "        self.left = self.__insertNode(value)\n",
    "\n",
    "    def isRoot(self):\n",
    "        return self.father == None\n",
    "\n",
    "    def isLeft(self):\n",
    "        return not self.isRoot() and self.father.left == self  \n",
    "    \n",
    "    def isRight(self):\n",
    "        return not self.isRoot() and self.father.right == self \n",
    "\n",
    "    def brother(self):\n",
    "        if(not self.isRoot()):\n",
    "            if (self.isLeft()):\n",
    "                return self.father.right\n",
    "            else:\n",
    "                return self.father.left\n",
    "    \n",
    "    def insertBS(self, value):\n",
    "        if(value.smaller(self.info)):\n",
    "            if(self.left != None):\n",
    "                self.left.insertBS(value)\n",
    "            else:\n",
    "                self.setLeft(value)\n",
    "        else:\n",
    "            if(self.right != None):\n",
    "                self.right.insertBS(value)\n",
    "            else:\n",
    "                self.setRight(value)\n",
    "                "
   ]
  },
  {
   "cell_type": "code",
   "execution_count": 21,
   "metadata": {},
   "outputs": [
    {
     "name": "stdout",
     "output_type": "stream",
     "text": [
      "Nome: Andre Idade: 25\n",
      "Nome: João Idade: 15\n",
      "Nome: Marcos Idade: 30\n",
      "Nome: Maria Idade: 28\n"
     ]
    }
   ],
   "source": [
    "andre = Pessoa(\"Andre\",25)\n",
    "marcos = Pessoa(\"Marcos\",30)\n",
    "maria = Pessoa(\"Maria\",28)\n",
    "joao = Pessoa(\"João\",15)\n",
    "\n",
    "tree = TreeBinarySearch(andre)\n",
    "tree.insertBS(marcos)\n",
    "tree.insertBS(maria)\n",
    "tree.insertBS(joao)\n",
    "\n",
    "print(tree.info)\n",
    "print(tree.left.info)\n",
    "print(tree.right.info)\n",
    "print(tree.right.left.info)"
   ]
  }
 ],
 "metadata": {
  "kernelspec": {
   "display_name": "Python 3.9.12 ('base')",
   "language": "python",
   "name": "python3"
  },
  "language_info": {
   "codemirror_mode": {
    "name": "ipython",
    "version": 3
   },
   "file_extension": ".py",
   "mimetype": "text/x-python",
   "name": "python",
   "nbconvert_exporter": "python",
   "pygments_lexer": "ipython3",
   "version": "3.9.12"
  },
  "orig_nbformat": 4,
  "vscode": {
   "interpreter": {
    "hash": "6c7faf93df3ee68f704c7621ed6815c3db33d7be48932781e0aec86b27d6a79d"
   }
  }
 },
 "nbformat": 4,
 "nbformat_minor": 2
}
